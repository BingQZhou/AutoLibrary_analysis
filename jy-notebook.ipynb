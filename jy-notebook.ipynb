{
 "cells": [
  {
   "cell_type": "code",
   "execution_count": 1,
   "metadata": {},
   "outputs": [
    {
     "name": "stderr",
     "output_type": "stream",
     "text": [
      "[nltk_data] Downloading package stopwords to /Users/jfan/nltk_data...\n",
      "[nltk_data]   Package stopwords is already up-to-date!\n"
     ]
    },
    {
     "data": {
      "text/plain": [
       "True"
      ]
     },
     "execution_count": 1,
     "metadata": {},
     "output_type": "execute_result"
    }
   ],
   "source": [
    "import os\n",
    "import numpy as np\n",
    "import pandas as pd\n",
    "import string\n",
    "from collections import defaultdict\n",
    "from tqdm.notebook import tqdm\n",
    "from sklearn.feature_extraction.text import CountVectorizer, TfidfTransformer, TfidfVectorizer \n",
    "from sklearn.pipeline import Pipeline\n",
    "import nltk\n",
    "from nltk.stem.porter import *\n",
    "from nltk.corpus import stopwords\n",
    "nltk.download('stopwords')"
   ]
  },
  {
   "cell_type": "code",
   "execution_count": null,
   "metadata": {},
   "outputs": [],
   "source": [
    "files = os.listdir()\n",
    "text_lst = []\n",
    "for file in files:\n",
    "    if file[:2] == 'cs':\n",
    "        csv = pd.read_csv(file)\n",
    "        text_lst += csv['title'].to_list()\n",
    "        text_lst += csv['abstract'].to_list()"
   ]
  },
  {
   "cell_type": "code",
   "execution_count": 2,
   "metadata": {},
   "outputs": [
    {
     "data": {
      "text/html": [
       "<div>\n",
       "<style scoped>\n",
       "    .dataframe tbody tr th:only-of-type {\n",
       "        vertical-align: middle;\n",
       "    }\n",
       "\n",
       "    .dataframe tbody tr th {\n",
       "        vertical-align: top;\n",
       "    }\n",
       "\n",
       "    .dataframe thead th {\n",
       "        text-align: right;\n",
       "    }\n",
       "</style>\n",
       "<table border=\"1\" class=\"dataframe\">\n",
       "  <thead>\n",
       "    <tr style=\"text-align: right;\">\n",
       "      <th></th>\n",
       "      <th>title</th>\n",
       "      <th>abstract</th>\n",
       "    </tr>\n",
       "  </thead>\n",
       "  <tbody>\n",
       "    <tr>\n",
       "      <th>0</th>\n",
       "      <td>Intelligent location of simultaneously active ...</td>\n",
       "      <td>The intelligent acoustic emission locator is...</td>\n",
       "    </tr>\n",
       "    <tr>\n",
       "      <th>1</th>\n",
       "      <td>Intelligent location of simultaneously active ...</td>\n",
       "      <td>Part I describes an intelligent acoustic emi...</td>\n",
       "    </tr>\n",
       "    <tr>\n",
       "      <th>2</th>\n",
       "      <td>The World as Evolving Information</td>\n",
       "      <td>This paper discusses the benefits of describ...</td>\n",
       "    </tr>\n",
       "    <tr>\n",
       "      <th>3</th>\n",
       "      <td>Architecture for Pseudo Acausal Evolvable Embe...</td>\n",
       "      <td>Advances in semiconductor technology are con...</td>\n",
       "    </tr>\n",
       "    <tr>\n",
       "      <th>4</th>\n",
       "      <td>A neural network approach to ordinal regression</td>\n",
       "      <td>Ordinal regression is an important type of l...</td>\n",
       "    </tr>\n",
       "  </tbody>\n",
       "</table>\n",
       "</div>"
      ],
      "text/plain": [
       "                                               title  \\\n",
       "0  Intelligent location of simultaneously active ...   \n",
       "1  Intelligent location of simultaneously active ...   \n",
       "2                  The World as Evolving Information   \n",
       "3  Architecture for Pseudo Acausal Evolvable Embe...   \n",
       "4    A neural network approach to ordinal regression   \n",
       "\n",
       "                                            abstract  \n",
       "0    The intelligent acoustic emission locator is...  \n",
       "1    Part I describes an intelligent acoustic emi...  \n",
       "2    This paper discusses the benefits of describ...  \n",
       "3    Advances in semiconductor technology are con...  \n",
       "4    Ordinal regression is an important type of l...  "
      ]
     },
     "execution_count": 2,
     "metadata": {},
     "output_type": "execute_result"
    }
   ],
   "source": [
    "text_lst = []\n",
    "csv = pd.read_csv('cs/cs.AI.csv', index_col='Unnamed: 0')\n",
    "csv.head()"
   ]
  },
  {
   "cell_type": "code",
   "execution_count": 3,
   "metadata": {},
   "outputs": [],
   "source": [
    "text_lst += csv['title'].to_list()\n",
    "text_lst += csv['abstract'].to_list()"
   ]
  },
  {
   "cell_type": "code",
   "execution_count": 4,
   "metadata": {},
   "outputs": [],
   "source": [
    "punct = string.punctuation\n",
    "stop_words = set(stopwords.words('english')) \n",
    "\n",
    "def find_comm(data):\n",
    "    all_words = defaultdict(int)\n",
    "    tokenized = []\n",
    "    plain_text = []\n",
    "    stemmer = nltk.stem.porter.PorterStemmer()\n",
    "    for review in tqdm(data):\n",
    "        # remove capitalization\n",
    "        review = review.lower()\n",
    "        # remove punctuation\n",
    "        review = [c for c in review if not (c in punct)] \n",
    "        review = ''.join(review)\n",
    "        plain_text.append(review)\n",
    "        # tokenize the text\n",
    "        words = review.strip().split()\n",
    "        words = [stemmer.stem(w) for w in words]\n",
    "        tokenized.append(words)\n",
    "        # count frequency\n",
    "        for w in words:\n",
    "            if w not in stop_words: \n",
    "                all_words[w] += 1\n",
    "    return all_words, tokenized, plain_text\n",
    "\n",
    "def tf_idf(data, dict_size):\n",
    "    lst = []\n",
    "    word_dict = comm['word'].to_list()[:dict_size]\n",
    "    idf = comm['idf'].to_list()[:dict_size]\n",
    "    stemmer = nltk.stem.porter.PorterStemmer()\n",
    "    for review in tqdm(data):\n",
    "        feat = [0] * dict_size\n",
    "        n_terms = 0\n",
    "        # count the instances of the words in each review\n",
    "        for word in review:\n",
    "            n_terms += 1\n",
    "            word = stemmer.stem(word)\n",
    "            if word in word_dict:\n",
    "                feat[word_dict.index(word)] += 1\n",
    "        feat = [feat[i] / n_terms if n_terms != 0 else 0 for i in range(dict_size)]\n",
    "        feat = [feat[i] * idf[i] for i in range(dict_size)]\n",
    "        lst.append(feat)\n",
    "    return lst"
   ]
  },
  {
   "cell_type": "code",
   "execution_count": 5,
   "metadata": {},
   "outputs": [
    {
     "data": {
      "application/vnd.jupyter.widget-view+json": {
       "model_id": "afb9f00cabf64855ba19e443e4e1fa72",
       "version_major": 2,
       "version_minor": 0
      },
      "text/plain": [
       "HBox(children=(FloatProgress(value=0.0, max=56122.0), HTML(value='')))"
      ]
     },
     "metadata": {},
     "output_type": "display_data"
    },
    {
     "name": "stdout",
     "output_type": "stream",
     "text": [
      "\n"
     ]
    },
    {
     "data": {
      "text/html": [
       "<div>\n",
       "<style scoped>\n",
       "    .dataframe tbody tr th:only-of-type {\n",
       "        vertical-align: middle;\n",
       "    }\n",
       "\n",
       "    .dataframe tbody tr th {\n",
       "        vertical-align: top;\n",
       "    }\n",
       "\n",
       "    .dataframe thead th {\n",
       "        text-align: right;\n",
       "    }\n",
       "</style>\n",
       "<table border=\"1\" class=\"dataframe\">\n",
       "  <thead>\n",
       "    <tr style=\"text-align: right;\">\n",
       "      <th></th>\n",
       "      <th>word</th>\n",
       "      <th>frequency</th>\n",
       "      <th>idf</th>\n",
       "    </tr>\n",
       "  </thead>\n",
       "  <tbody>\n",
       "    <tr>\n",
       "      <th>0</th>\n",
       "      <td>thi</td>\n",
       "      <td>40838</td>\n",
       "      <td>11.935301</td>\n",
       "    </tr>\n",
       "    <tr>\n",
       "      <th>1</th>\n",
       "      <td>learn</td>\n",
       "      <td>37091</td>\n",
       "      <td>11.935301</td>\n",
       "    </tr>\n",
       "    <tr>\n",
       "      <th>2</th>\n",
       "      <td>model</td>\n",
       "      <td>36130</td>\n",
       "      <td>11.935301</td>\n",
       "    </tr>\n",
       "    <tr>\n",
       "      <th>3</th>\n",
       "      <td>use</td>\n",
       "      <td>30835</td>\n",
       "      <td>11.935301</td>\n",
       "    </tr>\n",
       "    <tr>\n",
       "      <th>4</th>\n",
       "      <td>algorithm</td>\n",
       "      <td>20443</td>\n",
       "      <td>11.935301</td>\n",
       "    </tr>\n",
       "    <tr>\n",
       "      <th>...</th>\n",
       "      <td>...</td>\n",
       "      <td>...</td>\n",
       "      <td>...</td>\n",
       "    </tr>\n",
       "    <tr>\n",
       "      <th>61018</th>\n",
       "      <td>kp2</td>\n",
       "      <td>1</td>\n",
       "      <td>11.935301</td>\n",
       "    </tr>\n",
       "    <tr>\n",
       "      <th>61019</th>\n",
       "      <td>locallyconsist</td>\n",
       "      <td>1</td>\n",
       "      <td>11.935301</td>\n",
       "    </tr>\n",
       "    <tr>\n",
       "      <th>61020</th>\n",
       "      <td>centerperipheri</td>\n",
       "      <td>1</td>\n",
       "      <td>11.242154</td>\n",
       "    </tr>\n",
       "    <tr>\n",
       "      <th>61021</th>\n",
       "      <td>3277</td>\n",
       "      <td>1</td>\n",
       "      <td>11.935301</td>\n",
       "    </tr>\n",
       "    <tr>\n",
       "      <th>61022</th>\n",
       "      <td>threequbit</td>\n",
       "      <td>1</td>\n",
       "      <td>11.242154</td>\n",
       "    </tr>\n",
       "  </tbody>\n",
       "</table>\n",
       "<p>61023 rows × 3 columns</p>\n",
       "</div>"
      ],
      "text/plain": [
       "                  word  frequency        idf\n",
       "0                  thi      40838  11.935301\n",
       "1                learn      37091  11.935301\n",
       "2                model      36130  11.935301\n",
       "3                  use      30835  11.935301\n",
       "4            algorithm      20443  11.935301\n",
       "...                ...        ...        ...\n",
       "61018              kp2          1  11.935301\n",
       "61019   locallyconsist          1  11.935301\n",
       "61020  centerperipheri          1  11.242154\n",
       "61021             3277          1  11.935301\n",
       "61022       threequbit          1  11.242154\n",
       "\n",
       "[61023 rows x 3 columns]"
      ]
     },
     "execution_count": 5,
     "metadata": {},
     "output_type": "execute_result"
    }
   ],
   "source": [
    "all_words_domain, tokenized_domain, plain_text_domain = find_comm(text_lst)\n",
    "words = all_words_domain.keys()\n",
    "freq = all_words_domain.values()\n",
    "comm = pd.DataFrame(list(zip(words, freq)), columns=['word', 'frequency'])\n",
    "comm = comm.sort_values(by='frequency', ascending=False).reset_index(drop=True)\n",
    "pipe = Pipeline([('count', CountVectorizer(vocabulary=words)), ('tfid', TfidfTransformer())]).fit(plain_text_domain)\n",
    "comm['idf'] = pipe['tfid'].idf_\n",
    "comm"
   ]
  },
  {
   "cell_type": "code",
   "execution_count": 6,
   "metadata": {},
   "outputs": [
    {
     "data": {
      "application/vnd.jupyter.widget-view+json": {
       "model_id": "c80be081710449d0a52efb65e058196e",
       "version_major": 2,
       "version_minor": 0
      },
      "text/plain": [
       "HBox(children=(FloatProgress(value=0.0, max=1.0), HTML(value='')))"
      ]
     },
     "metadata": {},
     "output_type": "display_data"
    },
    {
     "name": "stdout",
     "output_type": "stream",
     "text": [
      "\n"
     ]
    },
    {
     "data": {
      "application/vnd.jupyter.widget-view+json": {
       "model_id": "e3c1f7335e054374870969f6dddc0a57",
       "version_major": 2,
       "version_minor": 0
      },
      "text/plain": [
       "HBox(children=(FloatProgress(value=0.0, max=1.0), HTML(value='')))"
      ]
     },
     "metadata": {},
     "output_type": "display_data"
    },
    {
     "name": "stdout",
     "output_type": "stream",
     "text": [
      "\n"
     ]
    },
    {
     "data": {
      "application/vnd.jupyter.widget-view+json": {
       "model_id": "b1124504957d47fcbb146abb2051115c",
       "version_major": 2,
       "version_minor": 0
      },
      "text/plain": [
       "HBox(children=(FloatProgress(value=0.0, max=1.0), HTML(value='')))"
      ]
     },
     "metadata": {},
     "output_type": "display_data"
    },
    {
     "name": "stdout",
     "output_type": "stream",
     "text": [
      "\n"
     ]
    },
    {
     "data": {
      "application/vnd.jupyter.widget-view+json": {
       "model_id": "66db94d733a048709142d7bc5918b16d",
       "version_major": 2,
       "version_minor": 0
      },
      "text/plain": [
       "HBox(children=(FloatProgress(value=0.0, max=1.0), HTML(value='')))"
      ]
     },
     "metadata": {},
     "output_type": "display_data"
    },
    {
     "name": "stdout",
     "output_type": "stream",
     "text": [
      "\n"
     ]
    }
   ],
   "source": [
    "f = open('autophrase.txt', 'r')\n",
    "input_paper = [f.readline()]\n",
    "all_words_input, tokenized_input, plain_text_input = find_comm(input_paper)\n",
    "tfidf_input = tf_idf(tokenized_input, 1000)[0]\n",
    "\n",
    "f = open('construct.txt', 'r')\n",
    "recommended_paper = [f.readline()]\n",
    "all_words_recommended, tokenized_recommended, plain_text_recommended = find_comm(recommended_paper)\n",
    "tfidf_recommended = tf_idf(tokenized_recommended, 1000)[0]"
   ]
  },
  {
   "cell_type": "code",
   "execution_count": 7,
   "metadata": {},
   "outputs": [
    {
     "data": {
      "text/html": [
       "<div>\n",
       "<style scoped>\n",
       "    .dataframe tbody tr th:only-of-type {\n",
       "        vertical-align: middle;\n",
       "    }\n",
       "\n",
       "    .dataframe tbody tr th {\n",
       "        vertical-align: top;\n",
       "    }\n",
       "\n",
       "    .dataframe thead th {\n",
       "        text-align: right;\n",
       "    }\n",
       "</style>\n",
       "<table border=\"1\" class=\"dataframe\">\n",
       "  <thead>\n",
       "    <tr style=\"text-align: right;\">\n",
       "      <th></th>\n",
       "      <th>words</th>\n",
       "      <th>input</th>\n",
       "      <th>recommended</th>\n",
       "    </tr>\n",
       "  </thead>\n",
       "  <tbody>\n",
       "    <tr>\n",
       "      <th>0</th>\n",
       "      <td>thi</td>\n",
       "      <td>0.045887</td>\n",
       "      <td>0.074392</td>\n",
       "    </tr>\n",
       "    <tr>\n",
       "      <th>1</th>\n",
       "      <td>learn</td>\n",
       "      <td>0.011472</td>\n",
       "      <td>0.019959</td>\n",
       "    </tr>\n",
       "    <tr>\n",
       "      <th>2</th>\n",
       "      <td>model</td>\n",
       "      <td>0.041299</td>\n",
       "      <td>0.021773</td>\n",
       "    </tr>\n",
       "    <tr>\n",
       "      <th>3</th>\n",
       "      <td>use</td>\n",
       "      <td>0.029827</td>\n",
       "      <td>0.058062</td>\n",
       "    </tr>\n",
       "    <tr>\n",
       "      <th>4</th>\n",
       "      <td>algorithm</td>\n",
       "      <td>0.011472</td>\n",
       "      <td>0.001814</td>\n",
       "    </tr>\n",
       "    <tr>\n",
       "      <th>...</th>\n",
       "      <td>...</td>\n",
       "      <td>...</td>\n",
       "      <td>...</td>\n",
       "    </tr>\n",
       "    <tr>\n",
       "      <th>995</th>\n",
       "      <td>categor</td>\n",
       "      <td>0.000000</td>\n",
       "      <td>0.000000</td>\n",
       "    </tr>\n",
       "    <tr>\n",
       "      <th>996</th>\n",
       "      <td>technic</td>\n",
       "      <td>0.002294</td>\n",
       "      <td>0.000000</td>\n",
       "    </tr>\n",
       "    <tr>\n",
       "      <th>997</th>\n",
       "      <td>prototyp</td>\n",
       "      <td>0.000000</td>\n",
       "      <td>0.001173</td>\n",
       "    </tr>\n",
       "    <tr>\n",
       "      <th>998</th>\n",
       "      <td>qlearn</td>\n",
       "      <td>0.000000</td>\n",
       "      <td>0.000000</td>\n",
       "    </tr>\n",
       "    <tr>\n",
       "      <th>999</th>\n",
       "      <td>geometr</td>\n",
       "      <td>0.000000</td>\n",
       "      <td>0.000000</td>\n",
       "    </tr>\n",
       "  </tbody>\n",
       "</table>\n",
       "<p>1000 rows × 3 columns</p>\n",
       "</div>"
      ],
      "text/plain": [
       "         words     input  recommended\n",
       "0          thi  0.045887     0.074392\n",
       "1        learn  0.011472     0.019959\n",
       "2        model  0.041299     0.021773\n",
       "3          use  0.029827     0.058062\n",
       "4    algorithm  0.011472     0.001814\n",
       "..         ...       ...          ...\n",
       "995    categor  0.000000     0.000000\n",
       "996    technic  0.002294     0.000000\n",
       "997   prototyp  0.000000     0.001173\n",
       "998     qlearn  0.000000     0.000000\n",
       "999    geometr  0.000000     0.000000\n",
       "\n",
       "[1000 rows x 3 columns]"
      ]
     },
     "execution_count": 7,
     "metadata": {},
     "output_type": "execute_result"
    }
   ],
   "source": [
    "tfidf = pd.DataFrame()\n",
    "tfidf['words'] = comm['word'].iloc[:1000]\n",
    "tfidf['input'] = tfidf_input\n",
    "tfidf['recommended'] = tfidf_recommended\n",
    "tfidf"
   ]
  },
  {
   "cell_type": "code",
   "execution_count": null,
   "metadata": {},
   "outputs": [],
   "source": []
  }
 ],
 "metadata": {
  "kernelspec": {
   "display_name": "Python 3",
   "language": "python",
   "name": "python3"
  },
  "language_info": {
   "codemirror_mode": {
    "name": "ipython",
    "version": 3
   },
   "file_extension": ".py",
   "mimetype": "text/x-python",
   "name": "python",
   "nbconvert_exporter": "python",
   "pygments_lexer": "ipython3",
   "version": "3.7.6"
  }
 },
 "nbformat": 4,
 "nbformat_minor": 4
}
